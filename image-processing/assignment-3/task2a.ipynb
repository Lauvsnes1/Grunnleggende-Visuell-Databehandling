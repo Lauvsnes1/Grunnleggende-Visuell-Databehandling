{
 "cells": [
  {
   "cell_type": "code",
   "metadata": {
    "cell_id": "00000-32e95ec6-59c0-4e89-b97f-894c1c00b86a",
    "deepnote_to_be_reexecuted": false,
    "source_hash": "79397727",
    "execution_start": 1637053337335,
    "execution_millis": 5572,
    "deepnote_cell_type": "code"
   },
   "source": "import numpy as np\nimport skimage\nimport utils\nimport pathlib\nimport matplotlib.pyplot as plt",
   "execution_count": null,
   "outputs": []
  },
  {
   "cell_type": "code",
   "metadata": {
    "tags": [],
    "cell_id": "00004-83a5c023-b3e1-464d-b144-3e292f44d9a9",
    "deepnote_to_be_reexecuted": false,
    "source_hash": "f2129efd",
    "execution_start": 1637053342916,
    "execution_millis": 21,
    "deepnote_cell_type": "code"
   },
   "source": "def thresh(t, P1, M, MG ):\n    if P1(t) > 0:\n        return ((MG*P1(t) - M(t))**2)/(P1(t)*(1-P1(t)))\n    else:\n        return -np.inf",
   "execution_count": null,
   "outputs": []
  },
  {
   "cell_type": "code",
   "metadata": {
    "cell_id": "00001-2eca8407-dff9-4285-9256-b606bb9913aa",
    "deepnote_to_be_reexecuted": false,
    "source_hash": "86f85db6",
    "execution_start": 1637053342943,
    "execution_millis": 107,
    "deepnote_cell_type": "code"
   },
   "source": "def otsu_thresholding(im: np.ndarray) -> int:\n    \"\"\"\n        Otsu's thresholding algorithm that segments an image into 1 or 0 (True or False)\n        The function takes in a grayscale image and outputs a boolean image\n\n        args:\n            im: np.ndarray of shape (H, W) in the range [0, 255] (dtype=np.uint8)\n        return:\n            (int) the computed thresholding value\n    \"\"\"\n    assert im.dtype == np.uint8\n    ### START YOUR CODE HERE ### (You can change anything inside this block) \n    # You can also define other helper functions\n\n    # Compute normalized histogram\n    histogram = np.histogram(im, bins=np.arange(257), density=True)[0]\n    index = np.arange(0,256)\n\n    # Compute cumulative sums P1\n    P1 = lambda t: np.sum(histogram[:t])\n    \n    # Compute cumulative mean M\n    M = lambda t: np.sum(index[:t] * histogram[:t])\n\n    # Compute global mean MG\n    MG = np.sum(index * histogram)\n\n    # Compute between-class variance\n    variance_list = [0]*256\n    for t in range(256):\n        variance_list[t] = thresh(t, P1, M, MG)\n    return np.argmax(variance_list)\n    ### END YOUR CODE HERE ###",
   "execution_count": null,
   "outputs": []
  },
  {
   "cell_type": "code",
   "metadata": {
    "cell_id": "00002-13747be9-983b-4e2e-be9c-81bff9a53d42",
    "deepnote_to_be_reexecuted": false,
    "source_hash": "dc5298ce",
    "execution_start": 1637053343056,
    "execution_millis": 1284,
    "deepnote_cell_type": "code"
   },
   "source": "if __name__ == \"__main__\":\n    # DO NOT CHANGE\n    impaths_to_segment = [\n        pathlib.Path(\"thumbprint.png\"),\n        pathlib.Path(\"polymercell.png\")\n    ]\n    for impath in impaths_to_segment:\n        im = utils.read_image(impath)\n        threshold = otsu_thresholding(im)\n        print(\"Found optimal threshold:\", threshold)\n\n        # Segment the image by threshold\n        segmented_image = (im >= threshold)\n        assert im.shape == segmented_image.shape, \"Expected image shape ({}) to be same as thresholded image shape ({})\".format(\n                im.shape, segmented_image.shape)\n        assert segmented_image.dtype == np.bool, \"Expected thresholded image dtype to be np.bool. Was: {}\".format(\n                segmented_image.dtype)\n\n        segmented_image = utils.to_uint8(segmented_image)\n\n        save_path = \"{}-segmented.png\".format(impath.stem)\n        utils.save_im(save_path, segmented_image)",
   "execution_count": null,
   "outputs": [
    {
     "name": "stdout",
     "text": "Reading image: images/thumbprint.png\nFound optimal threshold: 154\nSaving image to: image_processed/thumbprint-segmented.png\n/shared-libs/python3.7/py-core/lib/python3.7/site-packages/ipykernel_launcher.py:16: DeprecationWarning: `np.bool` is a deprecated alias for the builtin `bool`. To silence this warning, use `bool` by itself. Doing this will not modify any behavior and is safe. If you specifically wanted the numpy scalar type, use `np.bool_` here.\nDeprecated in NumPy 1.20; for more details and guidance: https://numpy.org/devdocs/release/1.20.0-notes.html#deprecations\n  app.launch_new_instance()\nReading image: images/polymercell.png\nFound optimal threshold: 182\nSaving image to: image_processed/polymercell-segmented.png\n",
     "output_type": "stream"
    }
   ]
  },
  {
   "cell_type": "markdown",
   "source": "<a style='text-decoration:none;line-height:16px;display:flex;color:#5B5B62;padding:10px;justify-content:end;' href='https://deepnote.com?utm_source=created-in-deepnote-cell&projectId=9a3976ef-5c25-415c-9c7c-f9b43947fedd' target=\"_blank\">\n<img alt='Created in deepnote.com' style='display:inline;max-height:16px;margin:0px;margin-right:7.5px;' src='data:image/svg+xml;base64,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' > </img>\nCreated in <span style='font-weight:600;margin-left:4px;'>Deepnote</span></a>",
   "metadata": {
    "tags": [],
    "created_in_deepnote_cell": true,
    "deepnote_cell_type": "markdown"
   }
  }
 ],
 "nbformat": 4,
 "nbformat_minor": 5,
 "metadata": {
  "deepnote_notebook_id": "dee3710a-55ee-499c-831d-09ec43ec1520",
  "deepnote": {},
  "deepnote_execution_queue": []
 }
}