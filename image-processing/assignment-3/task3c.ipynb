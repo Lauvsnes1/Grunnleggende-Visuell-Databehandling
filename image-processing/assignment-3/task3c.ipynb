{
 "cells": [
  {
   "cell_type": "code",
   "metadata": {
    "cell_id": "00000-a0028fbd-55d1-4875-8f3a-fb5122c3d0c1",
    "deepnote_to_be_reexecuted": false,
    "source_hash": "93f027d4",
    "execution_start": 1637067779072,
    "execution_millis": 3421,
    "deepnote_cell_type": "code"
   },
   "source": "import utils\nimport skimage\nimport skimage.morphology\nimport numpy as np",
   "execution_count": null,
   "outputs": []
  },
  {
   "cell_type": "code",
   "metadata": {
    "cell_id": "00001-877504ea-61f0-4255-9d46-e4a07c57a19c",
    "deepnote_to_be_reexecuted": false,
    "source_hash": "f0bf02da",
    "execution_start": 1637067782501,
    "execution_millis": 31,
    "deepnote_cell_type": "code"
   },
   "source": "def extract_boundary(im: np.ndarray) -> np.ndarray:\n    \"\"\"\n        A function that extracts the inner boundary from a boolean image.\n\n        args:\n            im: np.ndarray of shape (H, W) with boolean values (dtype=np.bool)\n        return:\n            (np.ndarray) of shape (H, W). dtype=np.bool\n    \"\"\"\n    ### START YOUR CODE HERE ### (You can change anything inside this block)\n    # You can also define other helper functions\n    structuring_element = np.array([\n        [1, 1, 1],\n        [1, 1, 1],\n        [1, 1, 1]\n    ], dtype=bool)\n    boundary = im ^ skimage.morphology.erosion(im, structuring_element)\n    return boundary\n    ### END YOUR CODE HERE ###",
   "execution_count": null,
   "outputs": []
  },
  {
   "cell_type": "code",
   "metadata": {
    "cell_id": "00002-4dfb4741-0557-46d2-97df-12fa564ca816",
    "deepnote_to_be_reexecuted": false,
    "source_hash": "17580afb",
    "execution_start": 1637067782555,
    "execution_millis": 217,
    "deepnote_cell_type": "code"
   },
   "source": "if __name__ == \"__main__\":\n    im = utils.read_image(\"lincoln.png\")\n    binary_image = (im != 0)\n    boundary = extract_boundary(binary_image)\n\n    assert im.shape == boundary.shape, \"Expected image shape ({}) to be same as resulting image shape ({})\".format(\n            im.shape, boundary.shape)\n    assert boundary.dtype == np.bool, \"Expected resulting image dtype to be np.bool. Was: {}\".format(\n            boundary.dtype)\n\n    boundary = utils.to_uint8(boundary)\n    utils.save_im(\"lincoln-boundary.png\", boundary)",
   "execution_count": null,
   "outputs": [
    {
     "name": "stdout",
     "text": "Reading image: images/lincoln.png\nSaving image to: image_processed/lincoln-boundary.png\n/shared-libs/python3.7/py-core/lib/python3.7/site-packages/ipykernel_launcher.py:8: DeprecationWarning: `np.bool` is a deprecated alias for the builtin `bool`. To silence this warning, use `bool` by itself. Doing this will not modify any behavior and is safe. If you specifically wanted the numpy scalar type, use `np.bool_` here.\nDeprecated in NumPy 1.20; for more details and guidance: https://numpy.org/devdocs/release/1.20.0-notes.html#deprecations\n  \n",
     "output_type": "stream"
    }
   ]
  },
  {
   "cell_type": "markdown",
   "source": "<a style='text-decoration:none;line-height:16px;display:flex;color:#5B5B62;padding:10px;justify-content:end;' href='https://deepnote.com?utm_source=created-in-deepnote-cell&projectId=9a3976ef-5c25-415c-9c7c-f9b43947fedd' target=\"_blank\">\n<img alt='Created in deepnote.com' style='display:inline;max-height:16px;margin:0px;margin-right:7.5px;' src='data:image/svg+xml;base64,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' > </img>\nCreated in <span style='font-weight:600;margin-left:4px;'>Deepnote</span></a>",
   "metadata": {
    "tags": [],
    "created_in_deepnote_cell": true,
    "deepnote_cell_type": "markdown"
   }
  }
 ],
 "nbformat": 4,
 "nbformat_minor": 5,
 "metadata": {
  "deepnote_notebook_id": "979732f4-1c7f-4d31-b13c-6bae680f4905",
  "deepnote": {},
  "deepnote_execution_queue": []
 }
}