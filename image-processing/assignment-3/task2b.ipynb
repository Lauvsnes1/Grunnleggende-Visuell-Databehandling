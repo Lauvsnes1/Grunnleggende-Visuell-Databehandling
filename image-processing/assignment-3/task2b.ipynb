{
 "cells": [
  {
   "cell_type": "code",
   "metadata": {
    "cell_id": "00000-fe471761-8500-468d-a169-e9daed79395d",
    "deepnote_to_be_reexecuted": false,
    "source_hash": "9c75b75d",
    "execution_start": 1637057703288,
    "execution_millis": 2520,
    "deepnote_cell_type": "code"
   },
   "source": "import utils\nimport numpy as np",
   "execution_count": null,
   "outputs": []
  },
  {
   "cell_type": "code",
   "metadata": {
    "cell_id": "00001-32dff0db-d3d9-40e0-b15c-a8eb150a32fb",
    "deepnote_to_be_reexecuted": false,
    "source_hash": "88a9ea29",
    "execution_start": 1637057705848,
    "execution_millis": 130,
    "deepnote_cell_type": "code"
   },
   "source": "def region_growing(im: np.ndarray, seed_points: list, T: int) -> np.ndarray:\n    \"\"\"\n        A region growing algorithm that segments an image into 1 or 0 (True or False).\n        Finds candidate pixels with a Moore-neighborhood (8-connectedness). \n        Uses pixel intensity thresholding with the threshold T as the homogeneity criteria.\n        The function takes in a grayscale image and outputs a boolean image\n\n        args:\n            im: np.ndarray of shape (H, W) in the range [0, 255] (dtype=np.uint8)\n            seed_points: list of list containing seed points (row, col). Ex:\n                [[row1, col1], [row2, col2], ...]\n            T: integer value defining the threshold to used for the homogeneity criteria.\n        return:\n            (np.ndarray) of shape (H, W). dtype=np.bool\n    \"\"\"\n    ### START YOUR CODE HERE ### (You can change anything inside this block)\n    # You can also define other helper functions\n    segmented = np.zeros_like(im).astype(bool)\n    im = im.astype(float)\n    max_row, max_col = im.shape\n    \n    #Create a stack of candidates\n    candidates = set()\n    #List to add already seen pixels\n    seen = []\n\n    for row, col in seed_points:\n        candidates.add((row,col))\n        while len(candidates) != 0:\n            c_row, c_col = candidates.pop()\n            #Left of pixel\n            if c_col > 0 and c_col < max_col + 1 and (c_row, c_col-1) not in seen:\n                if abs(im[c_row][c_col-1] - im[row][col]) < T:\n                    segmented[c_row][c_col-1] = True\n                    candidates.add((c_row, c_col-1))\n                    seen.append((c_row, c_col-1))\n            #Right of pixel\n            if c_row > 0 and c_row < max_row + 1 and (c_row-1, c_col) not in seen:\n                if abs(im[c_row-1][c_col] - im[row][col]) < T:\n                    segmented[c_row-1][c_col] = True\n                    candidates.add((c_row-1, c_col))\n                    seen.append((c_row-1, c_col))\n            #Above pixel\n            if c_col > 0 and c_col < max_col + 1 and (c_row, c_col+1) not in seen:\n                if abs(im[c_row][c_col+1] - im[row][col]) < T:\n                    segmented[c_row][c_col+1] = True\n                    candidates.add((c_row, c_col+1))\n                    seen.append((c_row, c_col+1))\n            #Belove pixel\n            if c_row > 0 and c_row < max_row + 1 and (c_row+1, c_col) not in seen:\n                if abs(im[c_row+1][c_col] - im[row][col]) < T:\n                    segmented[c_row+1][c_col] = True\n                    candidates.add((c_row+1, c_col))\n                    seen.append((c_row+1, c_col))\n            #Top left corner of pixel\n            if c_row > 0 and c_col > 0 and c_row < max_row + 1 and c_col < max_col + 1 and (c_row-1, c_col-1) not in seen:\n                if abs(im[c_row-1][c_col-1] - im[row][col]) < T:\n                    segmented[c_row-1][c_col-1] = True\n                    candidates.add((c_row-1, c_col-1))\n                    seen.append((c_row-1, c_col-1))\n            #Top right corner of pixel \n            if c_row > 0 and c_col > 0 and c_row < max_row + 1 and c_col < max_col + 1 and (c_row-1, c_col+1) not in seen:\n                if abs(im[c_row-1][c_col+1] - im[row][col]) < T:\n                    segmented[c_row-1][c_col+1] = True\n                    candidates.add((c_row-1, c_col+1))\n                    seen.append((c_row-1, c_col+1))\n            #Bottom right corner of pixel \n            if c_row > 0 and c_col > 0 and c_row < max_row + 1 and c_col < max_col + 1 and (c_row+1, c_col+1) not in seen:\n                if abs(im[c_row+1][c_col+1] - im[row][col]) < T:\n                    segmented[c_row+1][c_col+1] = True\n                    candidates.add((c_row+1, c_col+1))\n                    seen.append((c_row+1, c_col+1))\n            #Bottom left corner of pixel \n            if c_row > 0 and c_col > 0 and c_row < max_row + 1 and c_col < max_col + 1 and (c_row+1, c_col-1) not in seen:\n                if abs(im[c_row+1][c_col-1] - im[row][col]) < T:\n                    segmented[c_row+1][c_col-1] = True\n                    candidates.add((c_row+1, c_col-1))\n                    seen.append((c_row+1, c_col-1))\n\n    return segmented\n    ### END YOUR CODE HERE ###",
   "execution_count": null,
   "outputs": []
  },
  {
   "cell_type": "code",
   "metadata": {
    "cell_id": "00002-0a00254d-7e6f-4aaa-a64d-38471b82142f",
    "deepnote_to_be_reexecuted": false,
    "source_hash": "5b367d7d",
    "execution_start": 1637057706016,
    "execution_millis": 7064,
    "deepnote_cell_type": "code"
   },
   "source": "if __name__ == \"__main__\":\n    # DO NOT CHANGE\n    im = utils.read_image(\"defective-weld.png\")\n\n    seed_points = [ # (row, column)\n        [254, 138], # Seed point 1\n        [253, 296], # Seed point 2\n        [233, 436], # Seed point 3\n        [232, 417], # Seed point 4\n    ]\n    intensity_threshold = 90\n    segmented_image = region_growing(im, seed_points, intensity_threshold)\n\n    assert im.shape == segmented_image.shape, \"Expected image shape ({}) to be same as thresholded image shape ({})\".format(\n        im.shape, segmented_image.shape)\n    assert segmented_image.dtype == np.bool, \"Expected thresholded image dtype to be np.bool. Was: {}\".format(\n            segmented_image.dtype)\n\n    segmented_image = utils.to_uint8(segmented_image)\n    utils.save_im(\"defective-weld-segmented.png\", segmented_image)",
   "execution_count": null,
   "outputs": [
    {
     "name": "stdout",
     "text": "Reading image: images/defective-weld.png\nSaving image to: image_processed/defective-weld-segmented.png\n/shared-libs/python3.7/py-core/lib/python3.7/site-packages/ipykernel_launcher.py:16: DeprecationWarning: `np.bool` is a deprecated alias for the builtin `bool`. To silence this warning, use `bool` by itself. Doing this will not modify any behavior and is safe. If you specifically wanted the numpy scalar type, use `np.bool_` here.\nDeprecated in NumPy 1.20; for more details and guidance: https://numpy.org/devdocs/release/1.20.0-notes.html#deprecations\n  app.launch_new_instance()\n",
     "output_type": "stream"
    }
   ]
  },
  {
   "cell_type": "markdown",
   "source": "<a style='text-decoration:none;line-height:16px;display:flex;color:#5B5B62;padding:10px;justify-content:end;' href='https://deepnote.com?utm_source=created-in-deepnote-cell&projectId=9a3976ef-5c25-415c-9c7c-f9b43947fedd' target=\"_blank\">\n<img alt='Created in deepnote.com' style='display:inline;max-height:16px;margin:0px;margin-right:7.5px;' src='data:image/svg+xml;base64,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' > </img>\nCreated in <span style='font-weight:600;margin-left:4px;'>Deepnote</span></a>",
   "metadata": {
    "tags": [],
    "created_in_deepnote_cell": true,
    "deepnote_cell_type": "markdown"
   }
  }
 ],
 "nbformat": 4,
 "nbformat_minor": 5,
 "metadata": {
  "deepnote_notebook_id": "0a62618a-ddda-4f77-a8ac-c278d0fef406",
  "deepnote": {},
  "deepnote_execution_queue": []
 }
}