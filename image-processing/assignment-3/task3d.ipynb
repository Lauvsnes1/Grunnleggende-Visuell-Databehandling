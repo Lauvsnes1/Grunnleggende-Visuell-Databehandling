{
 "cells": [
  {
   "cell_type": "code",
   "metadata": {
    "cell_id": "00000-aadf12c1-7d40-4e3e-9105-01f9cbd4f3f8",
    "deepnote_to_be_reexecuted": false,
    "source_hash": "93f027d4",
    "execution_start": 1637778286176,
    "execution_millis": 3740,
    "deepnote_cell_type": "code"
   },
   "source": "import utils\nimport skimage\nimport skimage.morphology\nimport numpy as np",
   "execution_count": 1,
   "outputs": []
  },
  {
   "cell_type": "code",
   "metadata": {
    "cell_id": "00001-e2f1b5fd-61aa-4ed2-bc3d-44d604f38f3c",
    "deepnote_to_be_reexecuted": false,
    "source_hash": "45f1fef8",
    "execution_start": 1637778289936,
    "execution_millis": 2,
    "deepnote_cell_type": "code"
   },
   "source": "def fill_holes(im: np.ndarray, starting_points: list, num_iterations: int) -> np.ndarray:\n    \"\"\"\n        A function that takes a binary image (im),  and a set of points \n        indicating position of holes, and fills the holes.\n\n        args:\n            im: np.ndarray of shape (H, W) with boolean values (dtype=np.bool)\n            starting_points: list of list containing starting points (row, col). Ex:\n                [[row1, col1], [row2, col2], ...]\n            num_iterations: integer defining the number of iterations to apply the \n                            hole filling algorithm\n        return:\n            (np.ndarray) of shape (H, W). dtype=np.bool\n    \"\"\"\n    ### START YOUR CODE HERE ### (You can change anything inside this block)\n    # You can also define other helper functions\n    structuring_element = np.array([\n        [1, 1, 1],\n        [1, 1, 1],\n        [1, 1, 1]\n    ], dtype=bool)\n    x_0 = np.zeros_like(im)\n    for point in starting_points:\n        x_0[point[0]][point[1]] = 1\n    for i in range(num_iterations):\n        # use np.logical helper functions for Union and intersection\n        dil = skimage.morphology.binary_dilation(x_0, structuring_element)\n        complement_im = np.invert(im)\n        x_0 = np.logical_and(dil, complement_im)\n        \n    im = np.logical_or(im, x_0)\n    result = im.copy()\n    print(result)\n    return result\n    ### END YOUR CODE HERE ###",
   "execution_count": 2,
   "outputs": []
  },
  {
   "cell_type": "code",
   "metadata": {
    "cell_id": "00002-dc98da1f-2754-45c7-930a-8ebcaeb7938f",
    "deepnote_to_be_reexecuted": false,
    "source_hash": "6c3ed371",
    "execution_start": 1637778289949,
    "execution_millis": 351,
    "deepnote_cell_type": "code"
   },
   "source": "if __name__ == \"__main__\":\n    im = utils.read_image(\"balls-with-reflections.png\")\n    binary_image = im != 0\n    starting_points = [ # (row, column)\n        [51, 64],\n        [44, 180],\n        [35, 365],\n        [156, 94],\n        [141, 264],\n        [138, 467],\n        [198, 180],\n        [229, 413],\n        [294, 103],\n        [302, 230],\n        [368, 388],\n        [352, 489],\n        [454, 57],\n        [457, 236],\n        [469, 400],\n        [489, 506]\n    ]\n    num_iterations = 30\n\n    result = fill_holes(binary_image, starting_points, num_iterations)\n\n    assert im.shape == result.shape, \"Expected image shape ({}) to be same as resulting image shape ({})\".format(\n            im.shape, result.shape)\n    assert result.dtype == np.bool, \"Expected resulting image dtype to be np.bool. Was: {}\".format(\n            result.dtype)\n\n    result = utils.to_uint8(result)\n    utils.save_im(\"balls-with-reflections-filled.png\", result)",
   "execution_count": 3,
   "outputs": [
    {
     "name": "stdout",
     "text": "Reading image: images/balls-with-reflections.png\n[[False False False ... False False False]\n [False False False ... False False False]\n [False False False ... False False False]\n ...\n [False False False ...  True  True  True]\n [False False False ...  True  True  True]\n [False False False ...  True  True  True]]\nSaving image to: image_processed/balls-with-reflections-filled.png\n/shared-libs/python3.7/py-core/lib/python3.7/site-packages/ipykernel_launcher.py:28: DeprecationWarning: `np.bool` is a deprecated alias for the builtin `bool`. To silence this warning, use `bool` by itself. Doing this will not modify any behavior and is safe. If you specifically wanted the numpy scalar type, use `np.bool_` here.\nDeprecated in NumPy 1.20; for more details and guidance: https://numpy.org/devdocs/release/1.20.0-notes.html#deprecations\n",
     "output_type": "stream"
    }
   ]
  },
  {
   "cell_type": "code",
   "source": "import os\nimport zipfile\n\n\ndef query(question, options):\n    print(question)\n    to_write = [\"\\n\\t{}: {}\".format(key, val) for key, val in options.items()]\n    to_write = \"\".join(to_write)\n    print(\"Options to select:\" + to_write)\n    answer = None\n    while answer not in (\"yes\", \"no\"):\n        answer_alternatives = \", \".join([str(key) for key in options.keys()])\n        answer = input(\"Select an option [{}]:\".format(answer_alternatives))\n        answer = answer.strip()\n        if answer not in options.keys():\n            print(\"Answer is not in: {}\".format(list(options.keys())))\n            continue\n        return options[answer]\n\n\n# If you create other files, edit this list to include them in the .zip file.\nfiles_to_include = {\n    \"task2a\": [\".py\", \".ipynb\"],\n    \"task2b\": [\".py\", \".ipynb\"],\n    \"task3a\": [\".py\", \".ipynb\"],\n    \"task3b\": [\".py\", \".ipynb\"],\n    \"task3c\": [\".py\", \".ipynb\"],\n    \"task3d\": [\".py\", \".ipynb\"],\n    \"utils\": [\".py\"],\n}\nzipfile_path = \"assignment_code.zip\"\nprint(\"-\"*80)\n\n\ndef select_file(filename, extension):\n    if len(extensions) == 1:\n        return filename + extensions[0]\n    options = {str(i): filename + extensions[i] for i in range(len(extensions))}\n    filename = query(\"Which file would you like to add?\", options)\n    return filename\n\nfiles_added = []\nwith zipfile.ZipFile(zipfile_path, \"w\") as fp:\n    for filename, extensions in files_to_include.items():\n        filepath = select_file(filename, extensions)\n        assert os.path.isfile(filepath),\\\n            f\"Did not find path: {filepath}\"\n        fp.write(filepath)\n        files_added.append(filepath)\n\nprint(\"-\"*80)\nprint(\"Files added to zip:\")\nprint(\"\\t\" + \"\\n\\t\".join(files_added))\nprint(\"Zipfile saved to: {}\".format(zipfile_path))\nprint(\"Please, upload your assignment PDF file outside the zipfile to blackboard.\")",
   "metadata": {
    "tags": [],
    "cell_id": "00003-26848366-04c3-4026-9864-cc3c262ccd73",
    "deepnote_to_be_reexecuted": false,
    "source_hash": "33033615",
    "execution_start": 1637778290308,
    "deepnote_cell_type": "code"
   },
   "outputs": [
    {
     "name": "stdout",
     "text": "--------------------------------------------------------------------------------\nWhich file would you like to add?\nOptions to select:\n\t0: task2a.py\n\t1: task2a.ipynb\nWhich file would you like to add?\nOptions to select:\n\t0: task2b.py\n\t1: task2b.ipynb\nWhich file would you like to add?\nOptions to select:\n\t0: task3a.py\n\t1: task3a.ipynb\nWhich file would you like to add?\nOptions to select:\n\t0: task3b.py\n\t1: task3b.ipynb\nWhich file would you like to add?\nOptions to select:\n\t0: task3c.py\n\t1: task3c.ipynb\nWhich file would you like to add?\nOptions to select:\n\t0: task3d.py\n\t1: task3d.ipynb\n",
     "output_type": "stream"
    }
   ],
   "execution_count": null
  },
  {
   "cell_type": "markdown",
   "source": "<a style='text-decoration:none;line-height:16px;display:flex;color:#5B5B62;padding:10px;justify-content:end;' href='https://deepnote.com?utm_source=created-in-deepnote-cell&projectId=9a3976ef-5c25-415c-9c7c-f9b43947fedd' target=\"_blank\">\n<img alt='Created in deepnote.com' style='display:inline;max-height:16px;margin:0px;margin-right:7.5px;' src='data:image/svg+xml;base64,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' > </img>\nCreated in <span style='font-weight:600;margin-left:4px;'>Deepnote</span></a>",
   "metadata": {
    "tags": [],
    "created_in_deepnote_cell": true,
    "deepnote_cell_type": "markdown"
   }
  }
 ],
 "nbformat": 4,
 "nbformat_minor": 5,
 "metadata": {
  "deepnote_notebook_id": "996ba90a-98dc-434f-a498-1b15f3107b52",
  "deepnote": {},
  "deepnote_execution_queue": [
   {
    "cellId": "00003-26848366-04c3-4026-9864-cc3c262ccd73",
    "sessionId": "4a82c30e-c216-45b7-a021-ed898b823f40",
    "msgId": "49de2aca-f9cc-4efe-8cd0-15c8774803b4"
   }
  ]
 }
}