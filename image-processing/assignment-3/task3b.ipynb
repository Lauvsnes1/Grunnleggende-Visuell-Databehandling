{
 "cells": [
  {
   "cell_type": "code",
   "metadata": {
    "cell_id": "00000-1555871b-1a81-4100-8fd3-7766f4bf9f3e",
    "deepnote_to_be_reexecuted": false,
    "source_hash": "c3286a16",
    "execution_start": 1637065414249,
    "execution_millis": 3865,
    "deepnote_cell_type": "code"
   },
   "source": "import utils\nimport skimage\nimport skimage.morphology\nimport numpy as np\nfrom task3a import remove_noise",
   "execution_count": null,
   "outputs": []
  },
  {
   "cell_type": "code",
   "metadata": {
    "tags": [],
    "cell_id": "00001-c3f06945-09f5-4c4b-b6ef-33a5abe65e11",
    "deepnote_to_be_reexecuted": false,
    "source_hash": "be6c1862",
    "execution_start": 1637065418129,
    "execution_millis": 3,
    "deepnote_cell_type": "code"
   },
   "source": "def remove_noise(im: np.ndarray) -> np.ndarray:\n    \"\"\"\n        A function that removes noise in the input image.\n        args:\n            im: np.ndarray of shape (H, W) with boolean values (dtype=np.bool)\n        return:\n            (np.ndarray) of shape (H, W). dtype=np.bool\n    \"\"\"\n    opening_im = skimage.morphology.binary_opening(im, skimage.morphology.disk(7))\n    closing_im = skimage.morphology.binary_closing(opening_im, skimage.morphology.disk(15))\n    return closing_im",
   "execution_count": null,
   "outputs": []
  },
  {
   "cell_type": "code",
   "metadata": {
    "cell_id": "00001-2996b100-b81b-479d-8279-e299544cf10a",
    "deepnote_to_be_reexecuted": false,
    "source_hash": "aa932d58",
    "execution_start": 1637065418150,
    "execution_millis": 10,
    "deepnote_cell_type": "code"
   },
   "source": "def distance_transform(im: np.ndarray) -> np.ndarray:\n    \"\"\"\n        A function that computes the distance to the closest boundary pixel.\n\n        args:\n            im: np.ndarray of shape (H, W) with boolean values (dtype=np.bool)\n        return:\n            (np.ndarray) of shape (H, W). dtype=np.int32\n    \"\"\"\n    ### START YOUR CODE HERE ### (You can change anything inside this block)\n    # You can also define other helper functions\n    assert im.dtype == np.bool\n    structuring_element = np.array([\n        [1, 1, 1],\n        [1, 1, 1],\n        [1, 1, 1]\n    ], dtype=bool)\n    result = np.zeros((im.shape[0],im.shape[1]), dtype=np.int32)\n    while (np.any(im == True)):\n        result += im\n        im = skimage.morphology.erosion(im, structuring_element)\n    return result\n    ### END YOUR CODE HERE ###",
   "execution_count": null,
   "outputs": []
  },
  {
   "cell_type": "code",
   "metadata": {
    "cell_id": "00002-ea36fe65-803f-4361-a85c-3dbb47abc47c",
    "deepnote_to_be_reexecuted": false,
    "source_hash": "8bcf3cfa",
    "execution_start": 1637065418176,
    "execution_millis": 511,
    "deepnote_cell_type": "code"
   },
   "source": "if __name__ == \"__main__\":\n    im = utils.read_image(\"noisy.png\")\n    binary_image = (im != 0)\n    noise_free_image = remove_noise(binary_image)\n    distance = distance_transform(noise_free_image)\n\n    assert im.shape == distance.shape, \"Expected image shape ({}) to be same as resulting image shape ({})\".format(\n            im.shape, distance.shape)\n    assert distance.dtype == np.int32, \"Expected resulting image dtype to be np.int32. Was: {}\".format(\n            distance.dtype)\n\n    distance = utils.to_uint8(distance)\n    utils.save_im(\"noisy-distance.png\", distance)",
   "execution_count": null,
   "outputs": [
    {
     "name": "stdout",
     "text": "Reading image: images/noisy.png\nSaving image to: image_processed/noisy-distance.png\n/shared-libs/python3.7/py-core/lib/python3.7/site-packages/ipykernel_launcher.py:12: DeprecationWarning: `np.bool` is a deprecated alias for the builtin `bool`. To silence this warning, use `bool` by itself. Doing this will not modify any behavior and is safe. If you specifically wanted the numpy scalar type, use `np.bool_` here.\nDeprecated in NumPy 1.20; for more details and guidance: https://numpy.org/devdocs/release/1.20.0-notes.html#deprecations\n  if sys.path[0] == '':\n/work/TDT4195-StarterCode-master/assignment3/utils.py:39: UserWarning: Image min/max is outside the range [0.0, 1.0]. Squashing the image to this range. (Can be safely ignored)\n  warnings.warn(\"Image min/max is outside the range [0.0, 1.0]. Squashing the image to this range. (Can be safely ignored)\")\n",
     "output_type": "stream"
    }
   ]
  },
  {
   "cell_type": "markdown",
   "source": "<a style='text-decoration:none;line-height:16px;display:flex;color:#5B5B62;padding:10px;justify-content:end;' href='https://deepnote.com?utm_source=created-in-deepnote-cell&projectId=9a3976ef-5c25-415c-9c7c-f9b43947fedd' target=\"_blank\">\n<img alt='Created in deepnote.com' style='display:inline;max-height:16px;margin:0px;margin-right:7.5px;' src='data:image/svg+xml;base64,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' > </img>\nCreated in <span style='font-weight:600;margin-left:4px;'>Deepnote</span></a>",
   "metadata": {
    "tags": [],
    "created_in_deepnote_cell": true,
    "deepnote_cell_type": "markdown"
   }
  }
 ],
 "nbformat": 4,
 "nbformat_minor": 5,
 "metadata": {
  "deepnote_notebook_id": "6792a56f-9303-4209-83a7-f734b71d496e",
  "deepnote": {},
  "deepnote_execution_queue": []
 }
}